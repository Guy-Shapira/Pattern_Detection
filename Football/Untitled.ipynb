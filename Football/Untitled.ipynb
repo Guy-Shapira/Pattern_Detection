{
 "cells": [
  {
   "cell_type": "code",
   "execution_count": 1,
   "metadata": {},
   "outputs": [],
   "source": [
    "import pandas as pd\n"
   ]
  },
  {
   "cell_type": "code",
   "execution_count": 19,
   "metadata": {},
   "outputs": [],
   "source": [
    "data = pd.read_csv(\"x01\")\n"
   ]
  },
  {
   "cell_type": "code",
   "execution_count": 20,
   "metadata": {},
   "outputs": [
    {
     "data": {
      "text/plain": [
       "array([  8,  16,  61,  44,  10,  65,   4,  40,  23,  71,  13,  14, 100,\n",
       "        19,  74,  49,  67,  52,  28,  62,  66,  69,  63,  24,  59,  54,\n",
       "        38,  73,  47,  99,  64,  68,  57,  53,  58, 105,  75,  88, 106],\n",
       "      dtype=int64)"
      ]
     },
     "execution_count": 20,
     "metadata": {},
     "output_type": "execute_result"
    }
   ],
   "source": [
    "data.sid.unique()"
   ]
  },
  {
   "cell_type": "code",
   "execution_count": 21,
   "metadata": {},
   "outputs": [
    {
     "data": {
      "text/plain": [
       "[106,\n",
       " 10674626465097239,\n",
       " 28843,\n",
       " 15923,\n",
       " 2582,\n",
       " 851902,\n",
       " 18297710,\n",
       " 9999,\n",
       " 9999,\n",
       " 9998,\n",
       " 9999,\n",
       " 9998,\n",
       " 9999]"
      ]
     },
     "execution_count": 21,
     "metadata": {},
     "output_type": "execute_result"
    }
   ],
   "source": [
    "[data[a].max() for a in data.columns]"
   ]
  },
  {
   "cell_type": "code",
   "execution_count": 22,
   "metadata": {},
   "outputs": [
    {
     "data": {
      "text/plain": [
       "[4,\n",
       " 10673328277970475,\n",
       " -7169,\n",
       " -9416,\n",
       " -1616,\n",
       " 2076,\n",
       " 24405,\n",
       " -9999,\n",
       " -9996,\n",
       " -9999,\n",
       " -9999,\n",
       " -9999,\n",
       " -9992]"
      ]
     },
     "execution_count": 22,
     "metadata": {},
     "output_type": "execute_result"
    }
   ],
   "source": [
    "[data[a].min() for a in data.columns]"
   ]
  },
  {
   "cell_type": "code",
   "execution_count": 23,
   "metadata": {},
   "outputs": [
    {
     "data": {
      "text/plain": [
       "[102,\n",
       " 1298187126764,\n",
       " 36012,\n",
       " 25339,\n",
       " 4198,\n",
       " 849826,\n",
       " 18273305,\n",
       " 19998,\n",
       " 19995,\n",
       " 19997,\n",
       " 19998,\n",
       " 19997,\n",
       " 19991]"
      ]
     },
     "execution_count": 23,
     "metadata": {},
     "output_type": "execute_result"
    }
   ],
   "source": [
    "[data[a].max() - data[a].min() for a in data.columns]"
   ]
  },
  {
   "cell_type": "code",
   "execution_count": 41,
   "metadata": {},
   "outputs": [
    {
     "data": {
      "text/plain": [
       "tensor([-0.6456], grad_fn=<EmbeddingBackward>)"
      ]
     },
     "execution_count": 41,
     "metadata": {},
     "output_type": "execute_result"
    }
   ],
   "source": [
    "a = nn.Embedding(10, 1)\n",
    "a(torch.tensor(5))"
   ]
  },
  {
   "cell_type": "code",
   "execution_count": null,
   "metadata": {},
   "outputs": [],
   "source": []
  }
 ],
 "metadata": {
  "kernelspec": {
   "display_name": "Python 3",
   "language": "python",
   "name": "python3"
  },
  "language_info": {
   "codemirror_mode": {
    "name": "ipython",
    "version": 3
   },
   "file_extension": ".py",
   "mimetype": "text/x-python",
   "name": "python",
   "nbconvert_exporter": "python",
   "pygments_lexer": "ipython3",
   "version": "3.7.7"
  }
 },
 "nbformat": 4,
 "nbformat_minor": 4
}
